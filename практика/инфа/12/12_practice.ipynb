{
 "cells": [
  {
   "cell_type": "code",
   "execution_count": 1,
   "id": "78be0d7d",
   "metadata": {},
   "outputs": [],
   "source": [
    "import numpy as np\n",
    "import random as rnd\n",
    "import string as st"
   ]
  },
  {
   "cell_type": "code",
   "execution_count": 2,
   "id": "719dedf7",
   "metadata": {},
   "outputs": [],
   "source": [
    "def matrix(list_of_words):\n",
    "    array = np.array(list_of_words)\n",
    "    return array"
   ]
  },
  {
   "cell_type": "code",
   "execution_count": 3,
   "id": "858c46a6",
   "metadata": {},
   "outputs": [],
   "source": [
    "def generate_random_string(length):\n",
    "    letters = st.ascii_lowercase\n",
    "    rand_string = ''.join(rnd.choice(letters) for _ in range(length))\n",
    "    return rand_string"
   ]
  },
  {
   "cell_type": "code",
   "execution_count": 4,
   "id": "6e036cfe",
   "metadata": {},
   "outputs": [],
   "source": [
    "def generate_matrix_values(M):\n",
    "    return [generate_random_string(4) for _ in range(M ** 2)]"
   ]
  },
  {
   "cell_type": "code",
   "execution_count": 5,
   "id": "0bc9dbf9",
   "metadata": {},
   "outputs": [],
   "source": [
    "def check_word(word):\n",
    "    chars = 'abcdefghijklmnopqrstuvwxyz'\n",
    "    return len(word) == 4 and ((word in c) for c in chars)"
   ]
  },
  {
   "cell_type": "code",
   "execution_count": 6,
   "id": "99f7aead",
   "metadata": {},
   "outputs": [],
   "source": [
    "def user_word(M):\n",
    "    arr = []\n",
    "    itter = 1\n",
    "    m = M ** 2\n",
    "    while m:\n",
    "        print(itter, \" Иттерация\")\n",
    "        user_st = input()\n",
    "        if check_word(user_st):\n",
    "            arr.append(user_st)\n",
    "            m -= 1\n",
    "            itter += 1\n",
    "        else:\n",
    "            print('try again')\n",
    "    return arr"
   ]
  },
  {
   "cell_type": "code",
   "execution_count": 7,
   "id": "53b02f15",
   "metadata": {},
   "outputs": [],
   "source": [
    "def count_consonant(word):\n",
    "    vowels = 'aiueoy'\n",
    "    consonant = 0\n",
    "    for i in word:\n",
    "        if i not in vowels:\n",
    "            consonant += 1\n",
    "    return consonant"
   ]
  },
  {
   "cell_type": "code",
   "execution_count": 8,
   "id": "c11eab8a",
   "metadata": {},
   "outputs": [],
   "source": [
    "def list_consonant(list_of_words):\n",
    "    lst = []\n",
    "    for word in list_of_words:\n",
    "        lst.append(count_consonant(word))\n",
    "    return lst"
   ]
  },
  {
   "cell_type": "code",
   "execution_count": 9,
   "id": "8a9c2f53",
   "metadata": {},
   "outputs": [],
   "source": [
    "def check_M(M):\n",
    "    return M in range(2, 6)\n",
    "\n",
    "\n",
    "def check_text(text):\n",
    "    return text in range(0, 2)\n"
   ]
  },
  {
   "cell_type": "code",
   "execution_count": 10,
   "id": "5efe935d",
   "metadata": {},
   "outputs": [],
   "source": [
    "def if_else_M():\n",
    "    while True:\n",
    "        M = input()\n",
    "        if M:\n",
    "            if M.isdigit():\n",
    "                M = int(M)\n",
    "                if check_M(M):\n",
    "                    break\n",
    "                else:\n",
    "                    print('try again\\n')\n",
    "            else:\n",
    "                print('try again\\n')\n",
    "                continue\n",
    "        else:\n",
    "            print(\"try again\\n\")\n",
    "    return M"
   ]
  },
  {
   "cell_type": "code",
   "execution_count": 11,
   "id": "8799210c",
   "metadata": {},
   "outputs": [],
   "source": [
    "def if_else_text():\n",
    "    while True:\n",
    "        text = input()\n",
    "        if text:\n",
    "            if text.isdigit():\n",
    "                text = int(text)\n",
    "                if check_text(text):\n",
    "                    break\n",
    "            else:\n",
    "                print(\"try again\\n\")\n",
    "        else:\n",
    "            print(\"try again\\n\")\n",
    "    return text"
   ]
  },
  {
   "cell_type": "code",
   "execution_count": 12,
   "id": "55629db1",
   "metadata": {},
   "outputs": [
    {
     "name": "stdout",
     "output_type": "stream",
     "text": [
      "Enter the M dimension of the matrix in the range from 2 to 5 inclusive:\n",
      "\n",
      "2\n",
      "Choose the way to fill in the matrix:\n",
      "    0 - automatic (random)\n",
      "    1 - manual\n",
      "\n",
      "0\n",
      "[['itpb' 'eaad']\n",
      " ['ohni' 'nzpw']]\n",
      "The number of consonant letters in a matrix of words:\n",
      "\n",
      "[3, 1, 2, 4]\n",
      "Sorted array of values:\n",
      "\n",
      "[1, 2, 3, 4]\n"
     ]
    }
   ],
   "source": [
    "print(\"Enter the M dimension of the matrix in the range from 2 to 5 inclusive:\\n\")\n",
    "\n",
    "M = if_else_M()\n",
    "\n",
    "print(\"\"\"Choose the way to fill in the matrix:\n",
    "    0 - automatic (random)\n",
    "    1 - manual\\n\"\"\")\n",
    "\n",
    "text = if_else_text()\n",
    "if text == 1:\n",
    "    mat = matrix(user_word(M))\n",
    "    print(mat.reshape(M, M))\n",
    "    print(\"The number of consonant letters in a matrix of words:\\n\")\n",
    "    print(list_consonant(mat))\n",
    "    print(\"Sorted array of values:\\n\")\n",
    "    print(sorted((list_consonant(mat))))\n",
    "if text == 0:\n",
    "    mati = matrix(generate_matrix_values(M))\n",
    "    print(mati.reshape(M, M))\n",
    "    print(\"The number of consonant letters in a matrix of words:\\n\")\n",
    "    print(list_consonant(mati))\n",
    "    print(\"Sorted array of values:\\n\")\n",
    "    print(sorted((list_consonant(mati))))\n"
   ]
  },
  {
   "cell_type": "code",
   "execution_count": null,
   "id": "7d85e007",
   "metadata": {},
   "outputs": [],
   "source": []
  }
 ],
 "metadata": {
  "kernelspec": {
   "display_name": "Python 3 (ipykernel)",
   "language": "python",
   "name": "python3"
  },
  "language_info": {
   "codemirror_mode": {
    "name": "ipython",
    "version": 3
   },
   "file_extension": ".py",
   "mimetype": "text/x-python",
   "name": "python",
   "nbconvert_exporter": "python",
   "pygments_lexer": "ipython3",
   "version": "3.9.12"
  }
 },
 "nbformat": 4,
 "nbformat_minor": 5
}
