{
 "cells": [
  {
   "cell_type": "code",
   "execution_count": 35,
   "id": "5429943f",
   "metadata": {},
   "outputs": [],
   "source": [
    "%matplotlib inline\n",
    "\n",
    "import matplotlib.pyplot as plt\n",
    "import numpy as np\n",
    "import pandas as pd\n",
    "import matplotlib.ticker as ticker\n",
    "\n",
    "plt.style.use('seaborn-whitegrid')"
   ]
  },
  {
   "cell_type": "code",
   "execution_count": null,
   "id": "d15ec251",
   "metadata": {},
   "outputs": [],
   "source": []
  },
  {
   "cell_type": "code",
   "execution_count": 2,
   "id": "1471a2e1",
   "metadata": {},
   "outputs": [],
   "source": [
    "data = pd.read_csv('./RUB=X.csv', sep=',')"
   ]
  },
  {
   "cell_type": "code",
   "execution_count": 51,
   "id": "75bc6b36",
   "metadata": {},
   "outputs": [
    {
     "data": {
      "text/html": [
       "<div>\n",
       "<style scoped>\n",
       "    .dataframe tbody tr th:only-of-type {\n",
       "        vertical-align: middle;\n",
       "    }\n",
       "\n",
       "    .dataframe tbody tr th {\n",
       "        vertical-align: top;\n",
       "    }\n",
       "\n",
       "    .dataframe thead th {\n",
       "        text-align: right;\n",
       "    }\n",
       "</style>\n",
       "<table border=\"1\" class=\"dataframe\">\n",
       "  <thead>\n",
       "    <tr style=\"text-align: right;\">\n",
       "      <th></th>\n",
       "      <th>Date</th>\n",
       "      <th>Open</th>\n",
       "      <th>High</th>\n",
       "      <th>Low</th>\n",
       "      <th>Close</th>\n",
       "      <th>Adj Close</th>\n",
       "    </tr>\n",
       "  </thead>\n",
       "  <tbody>\n",
       "    <tr>\n",
       "      <th>0</th>\n",
       "      <td>2021</td>\n",
       "      <td>72.985001</td>\n",
       "      <td>73.029900</td>\n",
       "      <td>72.666298</td>\n",
       "      <td>72.981300</td>\n",
       "      <td>72.981300</td>\n",
       "    </tr>\n",
       "    <tr>\n",
       "      <th>1</th>\n",
       "      <td>2021</td>\n",
       "      <td>72.944504</td>\n",
       "      <td>72.997704</td>\n",
       "      <td>72.555000</td>\n",
       "      <td>73.008904</td>\n",
       "      <td>73.008904</td>\n",
       "    </tr>\n",
       "    <tr>\n",
       "      <th>2</th>\n",
       "      <td>2021</td>\n",
       "      <td>72.772697</td>\n",
       "      <td>73.029999</td>\n",
       "      <td>72.772499</td>\n",
       "      <td>72.772202</td>\n",
       "      <td>72.772202</td>\n",
       "    </tr>\n",
       "    <tr>\n",
       "      <th>3</th>\n",
       "      <td>2021</td>\n",
       "      <td>72.959801</td>\n",
       "      <td>73.367996</td>\n",
       "      <td>72.891800</td>\n",
       "      <td>72.968201</td>\n",
       "      <td>72.968201</td>\n",
       "    </tr>\n",
       "    <tr>\n",
       "      <th>4</th>\n",
       "      <td>2021</td>\n",
       "      <td>73.371597</td>\n",
       "      <td>73.516998</td>\n",
       "      <td>73.194000</td>\n",
       "      <td>73.363197</td>\n",
       "      <td>73.363197</td>\n",
       "    </tr>\n",
       "  </tbody>\n",
       "</table>\n",
       "</div>"
      ],
      "text/plain": [
       "   Date       Open       High        Low      Close  Adj Close\n",
       "0  2021  72.985001  73.029900  72.666298  72.981300  72.981300\n",
       "1  2021  72.944504  72.997704  72.555000  73.008904  73.008904\n",
       "2  2021  72.772697  73.029999  72.772499  72.772202  72.772202\n",
       "3  2021  72.959801  73.367996  72.891800  72.968201  72.968201\n",
       "4  2021  73.371597  73.516998  73.194000  73.363197  73.363197"
      ]
     },
     "execution_count": 51,
     "metadata": {},
     "output_type": "execute_result"
    }
   ],
   "source": [
    "data.head()"
   ]
  },
  {
   "cell_type": "code",
   "execution_count": 11,
   "id": "ae88ab5d",
   "metadata": {},
   "outputs": [],
   "source": [
    "data = data.drop('Volume', axis = 1)"
   ]
  },
  {
   "cell_type": "code",
   "execution_count": 12,
   "id": "e44eeb6d",
   "metadata": {},
   "outputs": [
    {
     "data": {
      "text/html": [
       "<div>\n",
       "<style scoped>\n",
       "    .dataframe tbody tr th:only-of-type {\n",
       "        vertical-align: middle;\n",
       "    }\n",
       "\n",
       "    .dataframe tbody tr th {\n",
       "        vertical-align: top;\n",
       "    }\n",
       "\n",
       "    .dataframe thead th {\n",
       "        text-align: right;\n",
       "    }\n",
       "</style>\n",
       "<table border=\"1\" class=\"dataframe\">\n",
       "  <thead>\n",
       "    <tr style=\"text-align: right;\">\n",
       "      <th></th>\n",
       "      <th>Date</th>\n",
       "      <th>Open</th>\n",
       "      <th>High</th>\n",
       "      <th>Low</th>\n",
       "      <th>Close</th>\n",
       "      <th>Adj Close</th>\n",
       "    </tr>\n",
       "  </thead>\n",
       "  <tbody>\n",
       "    <tr>\n",
       "      <th>0</th>\n",
       "      <td>2021-09-02</td>\n",
       "      <td>72.985001</td>\n",
       "      <td>73.029900</td>\n",
       "      <td>72.666298</td>\n",
       "      <td>72.981300</td>\n",
       "      <td>72.981300</td>\n",
       "    </tr>\n",
       "    <tr>\n",
       "      <th>1</th>\n",
       "      <td>2021-09-03</td>\n",
       "      <td>72.944504</td>\n",
       "      <td>72.997704</td>\n",
       "      <td>72.555000</td>\n",
       "      <td>73.008904</td>\n",
       "      <td>73.008904</td>\n",
       "    </tr>\n",
       "    <tr>\n",
       "      <th>2</th>\n",
       "      <td>2021-09-06</td>\n",
       "      <td>72.772697</td>\n",
       "      <td>73.029999</td>\n",
       "      <td>72.772499</td>\n",
       "      <td>72.772202</td>\n",
       "      <td>72.772202</td>\n",
       "    </tr>\n",
       "    <tr>\n",
       "      <th>3</th>\n",
       "      <td>2021-09-07</td>\n",
       "      <td>72.959801</td>\n",
       "      <td>73.367996</td>\n",
       "      <td>72.891800</td>\n",
       "      <td>72.968201</td>\n",
       "      <td>72.968201</td>\n",
       "    </tr>\n",
       "    <tr>\n",
       "      <th>4</th>\n",
       "      <td>2021-09-08</td>\n",
       "      <td>73.371597</td>\n",
       "      <td>73.516998</td>\n",
       "      <td>73.194000</td>\n",
       "      <td>73.363197</td>\n",
       "      <td>73.363197</td>\n",
       "    </tr>\n",
       "  </tbody>\n",
       "</table>\n",
       "</div>"
      ],
      "text/plain": [
       "         Date       Open       High        Low      Close  Adj Close\n",
       "0  2021-09-02  72.985001  73.029900  72.666298  72.981300  72.981300\n",
       "1  2021-09-03  72.944504  72.997704  72.555000  73.008904  73.008904\n",
       "2  2021-09-06  72.772697  73.029999  72.772499  72.772202  72.772202\n",
       "3  2021-09-07  72.959801  73.367996  72.891800  72.968201  72.968201\n",
       "4  2021-09-08  73.371597  73.516998  73.194000  73.363197  73.363197"
      ]
     },
     "execution_count": 12,
     "metadata": {},
     "output_type": "execute_result"
    }
   ],
   "source": [
    "data.head()"
   ]
  },
  {
   "cell_type": "code",
   "execution_count": 13,
   "id": "56d6000b",
   "metadata": {},
   "outputs": [
    {
     "data": {
      "text/plain": [
       "(262, 6)"
      ]
     },
     "execution_count": 13,
     "metadata": {},
     "output_type": "execute_result"
    }
   ],
   "source": [
    "data.shape"
   ]
  },
  {
   "cell_type": "code",
   "execution_count": 6,
   "id": "93168822",
   "metadata": {},
   "outputs": [
    {
     "name": "stdout",
     "output_type": "stream",
     "text": [
      "<class 'pandas.core.frame.DataFrame'>\n",
      "RangeIndex: 262 entries, 0 to 261\n",
      "Data columns (total 7 columns):\n",
      " #   Column     Non-Null Count  Dtype  \n",
      "---  ------     --------------  -----  \n",
      " 0   Date       262 non-null    object \n",
      " 1   Open       262 non-null    float64\n",
      " 2   High       262 non-null    float64\n",
      " 3   Low        262 non-null    float64\n",
      " 4   Close      262 non-null    float64\n",
      " 5   Adj Close  262 non-null    float64\n",
      " 6   Volume     262 non-null    int64  \n",
      "dtypes: float64(5), int64(1), object(1)\n",
      "memory usage: 14.5+ KB\n"
     ]
    }
   ],
   "source": [
    "data.info()"
   ]
  },
  {
   "cell_type": "code",
   "execution_count": 18,
   "id": "db041c76",
   "metadata": {},
   "outputs": [
    {
     "data": {
      "image/png": "[encoded data removed]",
      "text/plain": [
       "<Figure size 432x288 with 1 Axes>"
      ]
     },
     "metadata": {},
     "output_type": "display_data"
    }
   ],
   "source": [
    "data['Adj Close'].hist();"
   ]
  },
  {
   "cell_type": "code",
   "execution_count": null,
   "id": "5ae86837",
   "metadata": {},
   "outputs": [],
   "source": []
  },
  {
   "cell_type": "code",
   "execution_count": 48,
   "id": "f396ae57",
   "metadata": {},
   "outputs": [],
   "source": [
    "year = data[\"Date\"].apply(lambda x: x[0:4])"
   ]
  },
  {
   "cell_type": "code",
   "execution_count": 52,
   "id": "844edf4e",
   "metadata": {},
   "outputs": [
    {
     "data": {
      "text/plain": [
       "[<matplotlib.lines.Line2D at 0x271d5047d00>]"
      ]
     },
     "execution_count": 52,
     "metadata": {},
     "output_type": "execute_result"
    },
    {
     "data": {
      "image/png": "[encoded data removed]",
      "text/plain": [
       "<Figure size 1080x720 with 1 Axes>"
      ]
     },
     "metadata": {},
     "output_type": "display_data"
    }
   ],
   "source": [
    "y = data['Adj Close']\n",
    "x = data['Date']\n",
    "plt.figure(figsize=(15, 10))\n",
    "plt.title('Зависимость $ к Р по датам')\n",
    "plt.xlabel('Цена $')\n",
    "plt.ylabel('Даты')\n",
    "plt.xticks(rotation=90)\n",
    "plt.plot(x, y)"
   ]
  },
  {
   "cell_type": "code",
   "execution_count": null,
   "id": "59cc3450",
   "metadata": {},
   "outputs": [],
   "source": []
  }
 ],
 "metadata": {
  "kernelspec": {
   "display_name": "Python 3 (ipykernel)",
   "language": "python",
   "name": "python3"
  },
  "language_info": {
   "codemirror_mode": {
    "name": "ipython",
    "version": 3
   },
   "file_extension": ".py",
   "mimetype": "text/x-python",
   "name": "python",
   "nbconvert_exporter": "python",
   "pygments_lexer": "ipython3",
   "version": "3.9.12"
  }
 },
 "nbformat": 4,
 "nbformat_minor": 5
}
